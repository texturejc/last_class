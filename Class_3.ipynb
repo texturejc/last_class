{
 "cells": [
  {
   "cell_type": "code",
   "execution_count": 29,
   "metadata": {},
   "outputs": [],
   "source": [
    "\n",
    "# Introduction to pandas:\n",
    "\n",
    "#pandas guides available at https://pandas.pydata.org/docs/getting_started/index.html#getting-started\n",
    "\n",
    "#load libraries\n",
    "\n",
    "import pandas as pd #loads the pandas data science library\n",
    "import seaborn as sns # loads the seaborn plotting libary\n",
    "import scipy as sp\n",
    "sns.set()"
   ]
  },
  {
   "cell_type": "code",
   "execution_count": 2,
   "metadata": {},
   "outputs": [],
   "source": [
    "#load excel data via filepath; YOU WILL NEED TO FIND YOUR OWN FILEPATH\n",
    "\n",
    "data = pd.read_excel('/Users/jamescarney/Desktop/Sprint_1/Sprint data_working file.xlsx')"
   ]
  },
  {
   "cell_type": "code",
   "execution_count": null,
   "metadata": {},
   "outputs": [],
   "source": [
    "data.columns"
   ]
  },
  {
   "cell_type": "code",
   "execution_count": 5,
   "metadata": {},
   "outputs": [],
   "source": [
    "# Subsets the dataframe into these five columns\n",
    "\n",
    "data = data[['Age', 'Gender', 'Nationality','Overall, how satisfied are you with your life nowadays?',\n",
    "       'Overall, how happy did you feel yesterday?',\n",
    "       'Overall, how anxious did you feel yesterday?',\n",
    "       'Overall, to what extent do you feel the things you do in your life are worthwhile?',\n",
    "       'Overall, how engaged are you in the local community where you live (e.g. through being part of a community project, helping with community activities like scouts, helping with local charities)?',\n",
    "       'Overall, how much do you trust the members of the local community where you live?',\n",
    "       'Approximately how many friends do you have listed on your Facebook page? - Please enter a number into each box', 'pain threshold_time_difference_seconds']]"
   ]
  },
  {
   "cell_type": "code",
   "execution_count": 6,
   "metadata": {},
   "outputs": [],
   "source": [
    "# Renames the columns\n",
    "\n",
    "data.columns = ['Age', 'Gender', 'Nationality', 'satisfied', 'happy', 'anxious', 'worthwhile', 'engaged', 'trust', 'fb_friends','pain_diff']"
   ]
  },
  {
   "cell_type": "code",
   "execution_count": 81,
   "metadata": {},
   "outputs": [],
   "source": [
    "# Cross-tabulate the data\n",
    "\n",
    "c_tab = pd.crosstab(data['Gender'], data['Nationality'])"
   ]
  },
  {
   "cell_type": "code",
   "execution_count": null,
   "metadata": {},
   "outputs": [],
   "source": [
    "# Plot histogram of counts\n",
    "\n",
    "sns.histplot(data['Age'])"
   ]
  },
  {
   "cell_type": "code",
   "execution_count": null,
   "metadata": {},
   "outputs": [],
   "source": [
    "# Plot barplot of means\n",
    "\n",
    "sns.barplot(x = 'Gender', y = 'satisfied', data = data)\n",
    "\n",
    "# Create barplots for all of 'happy', 'anxious', 'worthwhile', 'engaged', 'trust', 'fb_friends','pain_diff'"
   ]
  },
  {
   "cell_type": "code",
   "execution_count": null,
   "metadata": {},
   "outputs": [],
   "source": [
    "# Plot pointplot of means\n",
    "\n",
    "sns.pointplot(x = 'Gender', y = 'satisfied', data = data)"
   ]
  },
  {
   "cell_type": "code",
   "execution_count": null,
   "metadata": {},
   "outputs": [],
   "source": [
    "# Plot boxplot of distributions\n",
    "\n",
    "sns.boxplot(x = 'Gender', y = 'satisfied', data = data)\n",
    "\n",
    "# Create boxplots for all of 'happy', 'anxious', 'worthwhile', 'engaged', 'trust', 'fb_friends','pain_diff'"
   ]
  },
  {
   "cell_type": "code",
   "execution_count": null,
   "metadata": {},
   "outputs": [],
   "source": [
    "sns.lineplot(x = 'happy', y = 'anxious', data = data)\n",
    "\n",
    "# Create lineplots for all of 'happy', 'anxious', 'worthwhile', 'engaged', 'trust', 'fb_friends','pain_diff'"
   ]
  },
  {
   "cell_type": "code",
   "execution_count": null,
   "metadata": {},
   "outputs": [],
   "source": [
    "sns.scatterplot(x = 'Age', y = 'satisfied', data = data)\n",
    "\n",
    "# Create scatterplots for all of 'happy', 'anxious', 'worthwhile', 'engaged', 'trust', 'fb_friends','pain_diff'"
   ]
  },
  {
   "cell_type": "code",
   "execution_count": null,
   "metadata": {},
   "outputs": [],
   "source": [
    "sns.regplot(x = 'fb_friends', y = 'engaged', data = data)\n",
    "\n",
    "# Create regression plots for all of 'happy', 'anxious', 'worthwhile', 'engaged', 'trust', 'fb_friends','pain_diff'"
   ]
  },
  {
   "cell_type": "code",
   "execution_count": null,
   "metadata": {},
   "outputs": [],
   "source": [
    "sns.displot(x = 'satisfied', kind = 'kde', data = data)\n",
    "\n",
    "# Create distribution plots for all of 'happy', 'anxious', 'worthwhile', 'engaged', 'trust', 'fb_friends','pain_diff'"
   ]
  },
  {
   "cell_type": "code",
   "execution_count": 17,
   "metadata": {},
   "outputs": [],
   "source": [
    "# Creates new dataframe consisting of only these columns\n",
    "\n",
    "emotions = data[['satisfied', 'happy', 'anxious', 'worthwhile', 'engaged', 'trust', 'fb_friends']]"
   ]
  },
  {
   "cell_type": "code",
   "execution_count": null,
   "metadata": {},
   "outputs": [],
   "source": [
    "# Gets the correlation between columns\n",
    "\n",
    "emo = pd.DataFrame.corr(emotions)"
   ]
  },
  {
   "cell_type": "code",
   "execution_count": null,
   "metadata": {},
   "outputs": [],
   "source": [
    "# Generates a heatmap of the correlations\n",
    "\n",
    "sns.heatmap(emo)"
   ]
  },
  {
   "cell_type": "code",
   "execution_count": 67,
   "metadata": {},
   "outputs": [],
   "source": [
    "female = data[data['Gender'] == 'Female']\n",
    "male = data[data['Gender'] == 'Male']"
   ]
  },
  {
   "cell_type": "code",
   "execution_count": null,
   "metadata": {},
   "outputs": [],
   "source": [
    "# Conduct independent samples t-test on male and female reported anxiety. \n",
    "\n",
    "sp.stats.ttest_ind(male['anxious'], female['anxious'])"
   ]
  }
 ],
 "metadata": {
  "kernelspec": {
   "display_name": "Python 3",
   "language": "python",
   "name": "python3"
  },
  "language_info": {
   "codemirror_mode": {
    "name": "ipython",
    "version": 3
   },
   "file_extension": ".py",
   "mimetype": "text/x-python",
   "name": "python",
   "nbconvert_exporter": "python",
   "pygments_lexer": "ipython3",
   "version": "3.7.6"
  }
 },
 "nbformat": 4,
 "nbformat_minor": 4
}
